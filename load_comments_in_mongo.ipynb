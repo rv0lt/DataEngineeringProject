{
 "cells": [
  {
   "cell_type": "code",
   "execution_count": null,
   "id": "799e25d9-7dec-4ee5-a16e-b13385a41858",
   "metadata": {},
   "outputs": [],
   "source": [
    "import sys"
   ]
  },
  {
   "cell_type": "code",
   "execution_count": 1,
   "id": "d0cc77bf-b019-4221-a3a2-3f3170c325d8",
   "metadata": {},
   "outputs": [
    {
     "ename": "SyntaxError",
     "evalue": "unexpected EOF while parsing (2929740370.py, line 3)",
     "output_type": "error",
     "traceback": [
      "\u001b[0;36m  Input \u001b[0;32mIn [1]\u001b[0;36m\u001b[0m\n\u001b[0;31m    except:\u001b[0m\n\u001b[0m           ^\u001b[0m\n\u001b[0;31mSyntaxError\u001b[0m\u001b[0;31m:\u001b[0m unexpected EOF while parsing\n"
     ]
    }
   ],
   "source": [
    "try:\n",
    "    no_of_records = str(sys.argv[1])\n",
    "    cores_per_executor = int(sys.argv[2])\n",
    "    memory = str(int(sys.argv[3]))\n",
    "    instances = int(sys.argv[4])\n",
    "except:\n",
    "    sys.exit(1)"
   ]
  },
  {
   "cell_type": "code",
   "execution_count": 1,
   "id": "87633218",
   "metadata": {},
   "outputs": [],
   "source": [
    "import pymongo\n",
    "import urllib.parse\n",
    "import json\n",
    "import re\n",
    "import spacy\n",
    "import en_core_web_sm\n",
    "import emoji\n",
    "from nltk.corpus import stopwords\n",
    "from nltk.tokenize import RegexpTokenizer\n",
    "from nltk.stem import WordNetLemmatizer\n",
    "from nltk.stem import PorterStemmer\n",
    "from nltk import FreqDist\n",
    "import nltk\n",
    "import pandas as pd\n",
    "from nltk.sentiment.vader import SentimentIntensityAnalyzer as SIA"
   ]
  },
  {
   "cell_type": "code",
   "execution_count": 2,
   "id": "5b410016",
   "metadata": {},
   "outputs": [
    {
     "ename": "NameError",
     "evalue": "name 'cores_per_executor' is not defined",
     "output_type": "error",
     "traceback": [
      "\u001b[0;31m---------------------------------------------------------------------------\u001b[0m",
      "\u001b[0;31mNameError\u001b[0m                                 Traceback (most recent call last)",
      "Input \u001b[0;32mIn [2]\u001b[0m, in \u001b[0;36m<cell line: 8>\u001b[0;34m()\u001b[0m\n\u001b[1;32m      5\u001b[0m \u001b[38;5;28;01mfrom\u001b[39;00m \u001b[38;5;21;01mpyspark\u001b[39;00m\u001b[38;5;21;01m.\u001b[39;00m\u001b[38;5;21;01msql\u001b[39;00m\u001b[38;5;21;01m.\u001b[39;00m\u001b[38;5;21;01mtypes\u001b[39;00m \u001b[38;5;28;01mimport\u001b[39;00m StructType, StructField, StringType, IntegerType\n\u001b[1;32m      7\u001b[0m \u001b[38;5;66;03m# New API\u001b[39;00m\n\u001b[1;32m      8\u001b[0m spark_session \u001b[38;5;241m=\u001b[39m SparkSession\\\n\u001b[1;32m      9\u001b[0m     \u001b[38;5;241m.\u001b[39mbuilder\\\n\u001b[1;32m     10\u001b[0m     \u001b[38;5;241m.\u001b[39mappName(\u001b[38;5;124m\"\u001b[39m\u001b[38;5;124mtest_notebook\u001b[39m\u001b[38;5;124m\"\u001b[39m)\\\n\u001b[1;32m     11\u001b[0m     \u001b[38;5;241m.\u001b[39mmaster(\u001b[38;5;124m\"\u001b[39m\u001b[38;5;124mspark://host-192-168-2-176-de1:7077\u001b[39m\u001b[38;5;124m\"\u001b[39m)\\\n\u001b[1;32m     12\u001b[0m     \u001b[38;5;241m.\u001b[39mconfig(\u001b[38;5;124m\"\u001b[39m\u001b[38;5;124mspark.dynamicAllocation.enabled\u001b[39m\u001b[38;5;124m\"\u001b[39m, \u001b[38;5;28;01mTrue\u001b[39;00m)\\\n\u001b[1;32m     13\u001b[0m     \u001b[38;5;241m.\u001b[39mconfig(\u001b[38;5;124m\"\u001b[39m\u001b[38;5;124mspark.dynamicAllocation.shuffleTracking.enabled\u001b[39m\u001b[38;5;124m\"\u001b[39m, \u001b[38;5;28;01mTrue\u001b[39;00m)\\\n\u001b[1;32m     14\u001b[0m     \u001b[38;5;241m.\u001b[39mconfig(\u001b[38;5;124m\"\u001b[39m\u001b[38;5;124mspark.shuffle.service.enabled\u001b[39m\u001b[38;5;124m\"\u001b[39m, \u001b[38;5;28;01mFalse\u001b[39;00m)\\\n\u001b[1;32m     15\u001b[0m     \u001b[38;5;241m.\u001b[39mconfig(\u001b[38;5;124m\"\u001b[39m\u001b[38;5;124mspark.dynamicAllocation.executorIdleTimeout\u001b[39m\u001b[38;5;124m\"\u001b[39m,\u001b[38;5;124m\"\u001b[39m\u001b[38;5;124m100s\u001b[39m\u001b[38;5;124m\"\u001b[39m)\\\n\u001b[1;32m     16\u001b[0m     \u001b[38;5;241m.\u001b[39mconfig(\u001b[38;5;124m\"\u001b[39m\u001b[38;5;124mspark.driver.port\u001b[39m\u001b[38;5;124m\"\u001b[39m,\u001b[38;5;241m9998\u001b[39m)\\\n\u001b[1;32m     17\u001b[0m     \u001b[38;5;241m.\u001b[39mconfig(\u001b[38;5;124m\"\u001b[39m\u001b[38;5;124mspark.blockManager.port\u001b[39m\u001b[38;5;124m\"\u001b[39m,\u001b[38;5;241m10005\u001b[39m)\\\n\u001b[1;32m     18\u001b[0m     \u001b[38;5;241m.\u001b[39mconfig(\u001b[38;5;124m\"\u001b[39m\u001b[38;5;124mspark.cores.max\u001b[39m\u001b[38;5;124m\"\u001b[39m, \u001b[38;5;241m4\u001b[39m)\\\n\u001b[0;32m---> 19\u001b[0m     \u001b[38;5;241m.\u001b[39mconfig(\u001b[38;5;124m\"\u001b[39m\u001b[38;5;124mspark.executor.cores\u001b[39m\u001b[38;5;124m\"\u001b[39m,\u001b[43mcores_per_executor\u001b[49m)\\\n\u001b[1;32m     20\u001b[0m     \u001b[38;5;241m.\u001b[39mconfig(\u001b[38;5;124m\"\u001b[39m\u001b[38;5;124mspark.executor.instances\u001b[39m\u001b[38;5;124m\"\u001b[39m, instances)\\\n\u001b[1;32m     21\u001b[0m     \u001b[38;5;241m.\u001b[39mconfig(\u001b[38;5;124m\"\u001b[39m\u001b[38;5;124mspark.executor.memory\u001b[39m\u001b[38;5;124m\"\u001b[39m, memory \u001b[38;5;241m+\u001b[39m \u001b[38;5;124m\"\u001b[39m\u001b[38;5;124mg\u001b[39m\u001b[38;5;124m\"\u001b[39m)\\\n\u001b[1;32m     22\u001b[0m     \u001b[38;5;241m.\u001b[39mconfig(\u001b[38;5;124m\"\u001b[39m\u001b[38;5;124mspark.ui.showConsoleProgress\u001b[39m\u001b[38;5;124m\"\u001b[39m, \u001b[38;5;28;01mFalse\u001b[39;00m)\\\n\u001b[1;32m     23\u001b[0m     \u001b[38;5;241m.\u001b[39mgetOrCreate()\n\u001b[1;32m     25\u001b[0m \u001b[38;5;66;03m# Old API (RDD)\u001b[39;00m\n\u001b[1;32m     26\u001b[0m spark_context \u001b[38;5;241m=\u001b[39m spark_session\u001b[38;5;241m.\u001b[39msparkContext\n",
      "\u001b[0;31mNameError\u001b[0m: name 'cores_per_executor' is not defined"
     ]
    }
   ],
   "source": [
    "import pprint\n",
    "from pyspark.sql import SparkSession\n",
    "from operator import add\n",
    "from pyspark.sql.functions import udf\n",
    "from pyspark.sql.types import StructType, StructField, StringType, IntegerType\n",
    "\n",
    "app_string = \"R = \" + str(no_of_records) + \", C/E = \" + str(cores_per_executor) + \", M/E = \"  \\\n",
    " + str(memory) + \", E = \" + str(instances)\n",
    "\n",
    "# New API\n",
    "spark_session = SparkSession\\\n",
    "    .builder\\\n",
    "    .appName(app_string)\\\n",
    "    .master(\"spark://host-192-168-2-176-de1:7077\")\\\n",
    "    .config(\"spark.dynamicAllocation.enabled\", True)\\\n",
    "    .config(\"spark.dynamicAllocation.shuffleTracking.enabled\", True)\\\n",
    "    .config(\"spark.shuffle.service.enabled\", False)\\\n",
    "    .config(\"spark.dynamicAllocation.executorIdleTimeout\",\"100s\")\\\n",
    "    .config(\"spark.driver.port\",9998)\\\n",
    "    .config(\"spark.blockManager.port\",10005)\\\n",
    "    .config(\"spark.cores.max\", 10)\\\n",
    "    .config(\"spark.executor.cores\",cores_per_executor)\\\n",
    "    .config(\"spark.executor.instances\", instances)\\\n",
    "    .config(\"spark.executor.memory\", memory + \"g\")\\\n",
    "    .config(\"spark.ui.showConsoleProgress\", False)\\\n",
    "    .getOrCreate()\n",
    "\n",
    "# Old API (RDD)\n",
    "spark_context = spark_session.sparkContext\n",
    "\n",
    "spark_context.setLogLevel(\"OFF\")"
   ]
  },
  {
   "cell_type": "code",
   "execution_count": null,
   "id": "0f1bd130-460f-48d8-a882-0945023b1c74",
   "metadata": {},
   "outputs": [],
   "source": [
    "print()\n",
    "print('------------------------------------------------------------')\n",
    "print('No of records = ' + str(no_of_records) + 'k')\n",
    "print('Cores per executor = ' + str(cores_per_executor))\n",
    "print('Memory of executor = ' + str(memory))\n",
    "print('Total executors = ' + str(instances))"
   ]
  },
  {
   "cell_type": "code",
   "execution_count": 5,
   "id": "84e7f812",
   "metadata": {},
   "outputs": [],
   "source": [
    "schema = StructType([\n",
    "      StructField(\"subreddit\",StringType(),True),\n",
    "      StructField(\"body\",StringType(),True)]\n",
    ")"
   ]
  },
  {
   "cell_type": "code",
   "execution_count": 7,
   "id": "ea6b3ab4-880f-4399-9de4-cd5a6f147115",
   "metadata": {},
   "outputs": [],
   "source": [
    "df = spark_session.read.schema(schema)\\\n",
    "    .json(\"hdfs://host-192-168-2-176-de1:9000/comments/\" + no_of_records + \"k_elements.json\")"
   ]
  },
  {
   "cell_type": "code",
   "execution_count": 11,
   "id": "97fa9201-cd68-477b-8194-b495eb96175d",
   "metadata": {},
   "outputs": [
    {
     "name": "stderr",
     "output_type": "stream",
     "text": [
      "                                                                                \r"
     ]
    }
   ],
   "source": [
    "categories = df.select('subreddit').distinct().collect()"
   ]
  },
  {
   "cell_type": "code",
   "execution_count": 13,
   "id": "e4ed361b",
   "metadata": {},
   "outputs": [],
   "source": [
    "i = 0\n",
    "\n",
    "cat_to_id = {}\n",
    "id_to_cat = {}\n",
    "\n",
    "for c in categories:\n",
    "    cat_to_id[c['subreddit']] = i\n",
    "    id_to_cat[i] = c['subreddit']\n",
    "    i += 1"
   ]
  },
  {
   "cell_type": "code",
   "execution_count": 14,
   "id": "00208e31-5c4f-443a-91b9-e3747f209de9",
   "metadata": {},
   "outputs": [],
   "source": [
    "def transform_to_id(cat):\n",
    "    return cat_to_id[cat]\n",
    "\n",
    "transform_to_id_udf = udf(transform_to_id)"
   ]
  },
  {
   "cell_type": "code",
   "execution_count": 15,
   "id": "57e3ce5d-4afc-4b30-a497-cc76c2b2a4ef",
   "metadata": {},
   "outputs": [],
   "source": [
    "df2 = df.withColumn(\"cat_id\",transform_to_id_udf(df[\"subreddit\"]).cast(\"int\"))"
   ]
  },
  {
   "cell_type": "code",
   "execution_count": 16,
   "id": "61a29a88-95c2-40d3-a108-4edbaa11c770",
   "metadata": {},
   "outputs": [
    {
     "name": "stderr",
     "output_type": "stream",
     "text": [
      "                                                                                \r"
     ]
    }
   ],
   "source": [
    "most_popular_categories = df2.groupBy('subreddit').count().sort('count', ascending=False).take(50)"
   ]
  },
  {
   "cell_type": "code",
   "execution_count": 17,
   "id": "974516cf",
   "metadata": {
    "scrolled": true
   },
   "outputs": [],
   "source": [
    "categories_to_keep = []\n",
    "\n",
    "for r in most_popular_categories:\n",
    "    \n",
    "    categories_to_keep.append(cat_to_id[r['subreddit']])"
   ]
  },
  {
   "cell_type": "code",
   "execution_count": 19,
   "id": "d4f632e2-f5ae-4e59-97c9-fec49932fe47",
   "metadata": {},
   "outputs": [],
   "source": [
    "rdd = df2.rdd"
   ]
  },
  {
   "cell_type": "code",
   "execution_count": 22,
   "id": "497dae0f",
   "metadata": {},
   "outputs": [],
   "source": [
    "filtered_rdd = rdd.filter(lambda x: x[2] in categories_to_keep)"
   ]
  },
  {
   "cell_type": "code",
   "execution_count": 23,
   "id": "f688e494",
   "metadata": {},
   "outputs": [],
   "source": [
    "filtered_rdd1 = filtered_rdd.map(lambda x: (x[0], emoji.get_emoji_regexp().sub(u'', x[1])))"
   ]
  },
  {
   "cell_type": "code",
   "execution_count": 24,
   "id": "285da427",
   "metadata": {},
   "outputs": [],
   "source": [
    "tokenizer = RegexpTokenizer('\\w+|\\$[\\d\\.]+|http\\S+')\n",
    "filtered_rdd2 = filtered_rdd1.map(lambda x: (x[0], tokenizer.tokenize(x[1])))"
   ]
  },
  {
   "cell_type": "code",
   "execution_count": 25,
   "id": "c5b7f3a5",
   "metadata": {},
   "outputs": [],
   "source": [
    "filtered_rdd3 = filtered_rdd2.map(lambda x: (x[0], [word.lower() for word in x[1]]))"
   ]
  },
  {
   "cell_type": "code",
   "execution_count": 26,
   "id": "be0dc541",
   "metadata": {},
   "outputs": [],
   "source": [
    "nlp = en_core_web_sm.load()\n",
    "\n",
    "all_stopwords = nlp.Defaults.stop_words\n",
    "\n",
    "filtered_rdd4 = filtered_rdd3.map(lambda x: (x[0], [word for word in x[1] if not word in all_stopwords]))"
   ]
  },
  {
   "cell_type": "code",
   "execution_count": 27,
   "id": "40ba0cb3",
   "metadata": {},
   "outputs": [
    {
     "name": "stderr",
     "output_type": "stream",
     "text": [
      "[nltk_data] Downloading package wordnet to /home/ubuntu/nltk_data...\n",
      "[nltk_data]   Package wordnet is already up-to-date!\n",
      "[nltk_data] Downloading package omw-1.4 to /home/ubuntu/nltk_data...\n",
      "[nltk_data]   Package omw-1.4 is already up-to-date!\n"
     ]
    }
   ],
   "source": [
    "# nltk.download('wordnet')\n",
    "# nltk.download('omw-1.4')\n",
    "\n",
    "lemmatizer = WordNetLemmatizer()\n",
    "\n",
    "filtered_rdd5 = filtered_rdd4.map(lambda x: (x[0], ([lemmatizer.lemmatize(w) for w in x[1]])))"
   ]
  },
  {
   "cell_type": "code",
   "execution_count": 28,
   "id": "6482b91a",
   "metadata": {},
   "outputs": [
    {
     "name": "stderr",
     "output_type": "stream",
     "text": [
      "[nltk_data] Downloading package vader_lexicon to\n",
      "[nltk_data]     /home/ubuntu/nltk_data...\n",
      "[nltk_data]   Package vader_lexicon is already up-to-date!\n"
     ]
    }
   ],
   "source": [
    "# nltk.download('vader_lexicon')\n",
    "\n",
    "sia = SIA()\n",
    "\n",
    "filtered_rdd6 = filtered_rdd5.map(lambda x: (x[0], [sia.polarity_scores(word)['compound'] for word in x[1]]))"
   ]
  },
  {
   "cell_type": "code",
   "execution_count": 29,
   "id": "32416604",
   "metadata": {},
   "outputs": [],
   "source": [
    "def find_positive_negative(scores):\n",
    "    pos = 0\n",
    "    neg = 0\n",
    "    for s in scores:\n",
    "        if s > 0.1 :\n",
    "            pos += 1\n",
    "        elif s <-0.1:\n",
    "            neg += 1\n",
    "    if pos >= neg:\n",
    "        return 1\n",
    "    return 0\n",
    "\n",
    "find_positive_negative_udf = udf(find_positive_negative)"
   ]
  },
  {
   "cell_type": "code",
   "execution_count": 30,
   "id": "d1b1fd5f",
   "metadata": {},
   "outputs": [],
   "source": [
    "filtered_rdd7 = filtered_rdd6.map(lambda x: (x[0], find_positive_negative(x[1])))"
   ]
  },
  {
   "cell_type": "code",
   "execution_count": 32,
   "id": "3dbbdcfe-3347-4b63-9217-7de5d077ca29",
   "metadata": {},
   "outputs": [],
   "source": [
    "final_rdd = filtered_rdd7.reduceByKey(lambda x, y: x+y)"
   ]
  },
  {
   "cell_type": "code",
   "execution_count": 33,
   "id": "704237c2-2c90-4c97-b7be-e9cae5ea5220",
   "metadata": {},
   "outputs": [
    {
     "name": "stderr",
     "output_type": "stream",
     "text": [
      "                                                                                \r"
     ]
    }
   ],
   "source": [
    "reduced_rdd = final_rdd.collect()"
   ]
  },
  {
   "cell_type": "code",
   "execution_count": 34,
   "id": "42e2055d",
   "metadata": {},
   "outputs": [],
   "source": [
    "count_dic = {}\n",
    "for i in most_popular_categories:\n",
    "    count_dic[i['subreddit']] = i['count']"
   ]
  },
  {
   "cell_type": "code",
   "execution_count": 35,
   "id": "c85ccc13",
   "metadata": {},
   "outputs": [],
   "source": [
    "final_list = []"
   ]
  },
  {
   "cell_type": "code",
   "execution_count": 44,
   "id": "1f1ee0a4-beda-415b-99e9-5881982a4c2b",
   "metadata": {},
   "outputs": [],
   "source": [
    "for i in reduced_rdd:\n",
    "    final_list.append([i[0], float(int(i[1]/count_dic[i[0]]*10000))/100])"
   ]
  },
  {
   "cell_type": "code",
   "execution_count": 45,
   "id": "10dfdf78",
   "metadata": {},
   "outputs": [],
   "source": [
    "final_df = pd.DataFrame (final_list, columns = ['category', 'frequency'])"
   ]
  },
  {
   "cell_type": "code",
   "execution_count": 46,
   "id": "517c630e",
   "metadata": {},
   "outputs": [],
   "source": [
    "final_df.to_csv('frequency_table.csv', sep='\\t')"
   ]
  },
  {
   "cell_type": "code",
   "execution_count": 47,
   "id": "bd8c5ece",
   "metadata": {},
   "outputs": [],
   "source": [
    "spark_session.stop()"
   ]
  }
 ],
 "metadata": {
  "kernelspec": {
   "display_name": "Python 3 (ipykernel)",
   "language": "python",
   "name": "python3"
  },
  "language_info": {
   "codemirror_mode": {
    "name": "ipython",
    "version": 3
   },
   "file_extension": ".py",
   "mimetype": "text/x-python",
   "name": "python",
   "nbconvert_exporter": "python",
   "pygments_lexer": "ipython3",
   "version": "3.8.10"
  }
 },
 "nbformat": 4,
 "nbformat_minor": 5
}
